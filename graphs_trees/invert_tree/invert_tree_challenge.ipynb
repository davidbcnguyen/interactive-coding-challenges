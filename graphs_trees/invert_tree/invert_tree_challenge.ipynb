{
 "cells": [
  {
   "cell_type": "markdown",
   "metadata": {},
   "source": [
    "This notebook was prepared by [Donne Martin](https://github.com/donnemartin). Source and license info is on [GitHub](https://github.com/donnemartin/interactive-coding-challenges)."
   ]
  },
  {
   "cell_type": "markdown",
   "metadata": {},
   "source": [
    "# Challenge Notebook"
   ]
  },
  {
   "cell_type": "markdown",
   "metadata": {},
   "source": [
    "## Problem: Invert a binary tree.\n",
    "\n",
    "* [Constraints](#Constraints)\n",
    "* [Test Cases](#Test-Cases)\n",
    "* [Algorithm](#Algorithm)\n",
    "* [Code](#Code)\n",
    "* [Unit Test](#Unit-Test)\n",
    "* [Solution Notebook](#Solution-Notebook)"
   ]
  },
  {
   "cell_type": "markdown",
   "metadata": {},
   "source": [
    "## Constraints\n",
    "\n",
    "* What does it mean to invert a binary tree?\n",
    "    * Swap all left and right node pairs\n",
    "* Can we assume we already have a Node class?\n",
    "    * Yes\n",
    "* Can we assume the inputs are valid?\n",
    "    * No\n",
    "* Can we assume this fits memory?\n",
    "    * Yes"
   ]
  },
  {
   "cell_type": "markdown",
   "metadata": {},
   "source": [
    "## Test Cases\n",
    "\n",
    "<pre>\n",
    "Input:\n",
    "     5\n",
    "   /   \\\n",
    "  2     7\n",
    " / \\   / \\\n",
    "1   3 6   9\n",
    "\n",
    "Output:\n",
    "     5\n",
    "   /   \\\n",
    "  7     2\n",
    " / \\   / \\\n",
    "9   6 3   1\n",
    "</pre>"
   ]
  },
  {
   "cell_type": "markdown",
   "metadata": {},
   "source": [
    "## Algorithm\n",
    "\n",
    "Refer to the [Solution Notebook](http://nbviewer.jupyter.org/github/donnemartin/interactive-coding-challenges/blob/master/graphs_trees/invert_tree/invert_tree_solution.ipynb).  If you are stuck and need a hint, the solution notebook's algorithm discussion might be a good place to start."
   ]
  },
  {
   "cell_type": "markdown",
   "metadata": {},
   "source": [
    "## Code"
   ]
  },
  {
   "cell_type": "code",
   "execution_count": 19,
   "metadata": {},
   "outputs": [],
   "source": [
    "%run ../bst/bst.py"
   ]
  },
  {
   "cell_type": "code",
   "execution_count": 20,
   "metadata": {},
   "outputs": [],
   "source": [
    "class InverseBst(Bst):\n",
    "\n",
    "    def invert_tree(self):\n",
    "        if self.root is None:\n",
    "            raise TypeError()\n",
    "        self._invert(self.root)\n",
    "        return self.root\n",
    "    \n",
    "    def _invert(self, node):\n",
    "        if node is None:\n",
    "            return\n",
    "        self._invert(node.right)\n",
    "        self._invert(node.left)\n",
    "        node.left, node.right = node.right, node.left"
   ]
  },
  {
   "cell_type": "markdown",
   "metadata": {},
   "source": [
    "## Unit Test"
   ]
  },
  {
   "cell_type": "markdown",
   "metadata": {},
   "source": [
    "**The following unit test is expected to fail until you solve the challenge.**"
   ]
  },
  {
   "cell_type": "code",
   "execution_count": 21,
   "metadata": {},
   "outputs": [
    {
     "name": "stdout",
     "output_type": "stream",
     "text": [
      "Success: test_invert_tree\n"
     ]
    }
   ],
   "source": [
    "# %load test_invert_tree.py\n",
    "import unittest\n",
    "\n",
    "\n",
    "class TestInvertTree(unittest.TestCase):\n",
    "\n",
    "    def test_invert_tree(self):\n",
    "        root = Node(5)\n",
    "        bst = InverseBst(root)\n",
    "        node2 = bst.insert(2)\n",
    "        node3 = bst.insert(3)\n",
    "        node1 = bst.insert(1)\n",
    "        node7 = bst.insert(7)\n",
    "        node6 = bst.insert(6)\n",
    "        node9 = bst.insert(9)\n",
    "        result = bst.invert_tree()\n",
    "        self.assertEqual(result, root)\n",
    "        self.assertEqual(result.left, node7)\n",
    "        self.assertEqual(result.right, node2)\n",
    "        self.assertEqual(result.left.left, node9)\n",
    "        self.assertEqual(result.left.right, node6)\n",
    "        self.assertEqual(result.right.left, node3)\n",
    "        self.assertEqual(result.right.right, node1)\n",
    "        print('Success: test_invert_tree')\n",
    "\n",
    "\n",
    "def main():\n",
    "    test = TestInvertTree()\n",
    "    test.test_invert_tree()\n",
    "\n",
    "\n",
    "if __name__ == '__main__':\n",
    "    main()"
   ]
  },
  {
   "cell_type": "markdown",
   "metadata": {},
   "source": [
    "## Solution Notebook\n",
    "\n",
    "Review the [Solution Notebook]() for a discussion on algorithms and code solutions."
   ]
  }
 ],
 "metadata": {
  "kernelspec": {
   "display_name": "Python 3 (ipykernel)",
   "language": "python",
   "name": "python3"
  },
  "language_info": {
   "codemirror_mode": {
    "name": "ipython",
    "version": 3
   },
   "file_extension": ".py",
   "mimetype": "text/x-python",
   "name": "python",
   "nbconvert_exporter": "python",
   "pygments_lexer": "ipython3",
   "version": "3.8.10"
  }
 },
 "nbformat": 4,
 "nbformat_minor": 1
}
